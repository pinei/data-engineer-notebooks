{
 "cells": [
  {
   "cell_type": "markdown",
   "id": "4722a574-79fa-4ad3-8175-85c097ac984d",
   "metadata": {},
   "source": [
    "# Agência Nacional de Petróleo\n",
    "\n",
    "Análises baseadas em uma amostra de coleta de preços de combustíveis automotivos nos postos do país\n",
    "\n"
   ]
  },
  {
   "cell_type": "code",
   "execution_count": 28,
   "id": "52c6cefb-7113-4ae3-b23f-ec5b77cb9bfa",
   "metadata": {
    "tags": []
   },
   "outputs": [
    {
     "name": "stdout",
     "output_type": "stream",
     "text": [
      "Requirement already satisfied: pandas in /opt/conda/lib/python3.10/site-packages (2.0.1)\n",
      "Collecting pyarrow\n",
      "  Downloading pyarrow-12.0.0-cp310-cp310-manylinux_2_17_x86_64.manylinux2014_x86_64.whl (38.9 MB)\n",
      "\u001b[2K     \u001b[90m━━━━━━━━━━━━━━━━━━━━━━━━━━━━━━━━━━━━━━━━\u001b[0m \u001b[32m38.9/38.9 MB\u001b[0m \u001b[31m26.1 MB/s\u001b[0m eta \u001b[36m0:00:00\u001b[0m00:01\u001b[0m00:01\u001b[0m\n",
      "\u001b[?25hCollecting fastparquet\n",
      "  Downloading fastparquet-2023.4.0-cp310-cp310-manylinux_2_17_x86_64.manylinux2014_x86_64.whl (1.5 MB)\n",
      "\u001b[2K     \u001b[90m━━━━━━━━━━━━━━━━━━━━━━━━━━━━━━━━━━━━━━━━\u001b[0m \u001b[32m1.5/1.5 MB\u001b[0m \u001b[31m22.8 MB/s\u001b[0m eta \u001b[36m0:00:00\u001b[0ma \u001b[36m0:00:01\u001b[0m\n",
      "\u001b[?25hRequirement already satisfied: python-dateutil>=2.8.2 in /opt/conda/lib/python3.10/site-packages (from pandas) (2.8.2)\n",
      "Requirement already satisfied: pytz>=2020.1 in /opt/conda/lib/python3.10/site-packages (from pandas) (2023.3)\n",
      "Requirement already satisfied: tzdata>=2022.1 in /opt/conda/lib/python3.10/site-packages (from pandas) (2023.3)\n",
      "Requirement already satisfied: numpy>=1.21.0 in /opt/conda/lib/python3.10/site-packages (from pandas) (1.24.3)\n",
      "Collecting cramjam>=2.3 (from fastparquet)\n",
      "  Downloading cramjam-2.6.2-cp310-cp310-manylinux_2_17_x86_64.manylinux2014_x86_64.whl (2.0 MB)\n",
      "\u001b[2K     \u001b[90m━━━━━━━━━━━━━━━━━━━━━━━━━━━━━━━━━━━━━━━━\u001b[0m \u001b[32m2.0/2.0 MB\u001b[0m \u001b[31m47.9 MB/s\u001b[0m eta \u001b[36m0:00:00\u001b[0m00:01\u001b[0m\n",
      "\u001b[?25hCollecting fsspec (from fastparquet)\n",
      "  Downloading fsspec-2023.5.0-py3-none-any.whl (160 kB)\n",
      "\u001b[2K     \u001b[90m━━━━━━━━━━━━━━━━━━━━━━━━━━━━━━━━━━━━━━\u001b[0m \u001b[32m160.1/160.1 kB\u001b[0m \u001b[31m14.0 MB/s\u001b[0m eta \u001b[36m0:00:00\u001b[0m\n",
      "\u001b[?25hRequirement already satisfied: packaging in /opt/conda/lib/python3.10/site-packages (from fastparquet) (23.1)\n",
      "Requirement already satisfied: six>=1.5 in /opt/conda/lib/python3.10/site-packages (from python-dateutil>=2.8.2->pandas) (1.16.0)\n",
      "Installing collected packages: pyarrow, fsspec, cramjam, fastparquet\n",
      "Successfully installed cramjam-2.6.2 fastparquet-2023.4.0 fsspec-2023.5.0 pyarrow-12.0.0\n"
     ]
    }
   ],
   "source": [
    "!pip install pandas pyarrow fastparquet"
   ]
  },
  {
   "cell_type": "code",
   "execution_count": 42,
   "id": "e21b6c5c-d366-4625-90e8-1a77788f4628",
   "metadata": {
    "tags": []
   },
   "outputs": [],
   "source": [
    "import os\n",
    "import shutil\n",
    "import requests\n",
    "import zipfile\n",
    "\n",
    "def makedirs(path):\n",
    "    if not os.path.exists(path):\n",
    "        os.makedirs(path)\n",
    "        \n",
    "def remove_paths(paths):\n",
    "    for path in paths:\n",
    "        if os.path.isfile(path):\n",
    "            os.remove(path)\n",
    "        elif os.path.isdir(path):\n",
    "            shutil.rmtree(path)\n",
    "            \n",
    "def download(url, path):\n",
    "    r = requests.get(url)\n",
    "    with open(path, 'wb') as f:\n",
    "        f.write(r.content)  \n",
    "        \n",
    "def extract(zip_file_path, extract_path):\n",
    "    with zipfile.ZipFile(zip_file_path) as zip_ref:\n",
    "        zip_ref.extractall(extract_path)"
   ]
  },
  {
   "cell_type": "code",
   "execution_count": 45,
   "id": "cea4c5ef-e657-465c-ac46-9e052398f745",
   "metadata": {
    "tags": []
   },
   "outputs": [
    {
     "name": "stdout",
     "output_type": "stream",
     "text": [
      "  Regiao - Sigla Estado - Sigla Municipio   \n",
      "0             SE             ES  COLATINA  \\\n",
      "1             SE             ES  COLATINA   \n",
      "2             SE             ES  COLATINA   \n",
      "3             SE             ES  COLATINA   \n",
      "4             SE             ES  COLATINA   \n",
      "\n",
      "                                             Revenda      CNPJ da Revenda   \n",
      "0  SAO FRANCISCO DE ASSIS COMERCIO DE COMBUSTIVEI...   08.519.545/0001-10  \\\n",
      "1  SAO FRANCISCO DE ASSIS COMERCIO DE COMBUSTIVEI...   08.519.545/0001-10   \n",
      "2                                 POSTO MOTOCAP LTDA   04.814.652/0001-10   \n",
      "3                                 POSTO MOTOCAP LTDA   04.814.652/0001-10   \n",
      "4                                 POSTO MOTOCAP LTDA   04.814.652/0001-10   \n",
      "\n",
      "         Cep             Produto Data da Coleta Valor de Venda   \n",
      "0  29703-030  GASOLINA ADITIVADA     01/07/2022           7,48  \\\n",
      "1  29703-030            GASOLINA     01/07/2022           7,38   \n",
      "2  29703-055          DIESEL S10     01/07/2022           7,69   \n",
      "3  29703-055              ETANOL     01/07/2022           5,99   \n",
      "4  29703-055            GASOLINA     01/07/2022           7,39   \n",
      "\n",
      "  Unidade de Medida       Bandeira  \n",
      "0        R$ / litro  VIBRA ENERGIA  \n",
      "1        R$ / litro  VIBRA ENERGIA  \n",
      "2        R$ / litro  VIBRA ENERGIA  \n",
      "3        R$ / litro  VIBRA ENERGIA  \n",
      "4        R$ / litro  VIBRA ENERGIA  \n"
     ]
    }
   ],
   "source": [
    "import pandas as pd\n",
    "\n",
    "anp_parquet_path = './data/anp/ca-2022-02.parquet'\n",
    "\n",
    "def load_anp_data():\n",
    "    # ANP > Série Histórica de Preços de Combustíveis e de GLP > Combustíveis automotivos > 2º semestre de 2022\n",
    "    dataset_url = 'https://www.gov.br/anp/pt-br/centrais-de-conteudo/dados-abertos/arquivos/shpc/dsas/ca/ca-2022-02.zip'\n",
    "\n",
    "    makedirs('./temp')\n",
    "    file_path = './temp/ca-2022-02.zip'\n",
    "    extract_path = './temp/ca-2022-02'\n",
    "\n",
    "    download(dataset_url, file_path)\n",
    "    extract(file_path, extract_path)\n",
    "\n",
    "    anp_data = ( pd\n",
    "        .read_csv(f'{extract_path}/ca-2022-02.csv', sep=';')\n",
    "        .drop(['Nome da Rua', 'Numero Rua', 'Complemento', 'Bairro', 'Valor de Compra'], axis=1, errors='ignore')\n",
    "    )\n",
    "    \n",
    "    remove_paths(['./temp/ca-2022-02.zip', './temp/ca-2022-02'])\n",
    "\n",
    "    makedirs('./data/anp')\n",
    "    anp_data.to_parquet('./data/anp/ca-2022-02.parquet')\n",
    "    \n",
    "    return anp_data\n",
    "\n",
    "def get_anp_data():\n",
    "    if os.path.exists(anp_parquet_path):\n",
    "        return pd.read_parquet(anp_parquet_path)\n",
    "    else:\n",
    "        return load_anp_data()\n",
    "\n",
    "print(get_anp_data().head())"
   ]
  }
 ],
 "metadata": {
  "kernelspec": {
   "display_name": "Python 3 (ipykernel)",
   "language": "python",
   "name": "python3"
  },
  "language_info": {
   "codemirror_mode": {
    "name": "ipython",
    "version": 3
   },
   "file_extension": ".py",
   "mimetype": "text/x-python",
   "name": "python",
   "nbconvert_exporter": "python",
   "pygments_lexer": "ipython3",
   "version": "3.10.10"
  }
 },
 "nbformat": 4,
 "nbformat_minor": 5
}
